{
 "cells": [
  {
   "cell_type": "markdown",
   "metadata": {
    "id": "dG2MLbQvZy9h"
   },
   "source": [
    "# Automatic Apparent Age Estimation - Bias Reduction with custom methods\n",
    "\n",
    "\n"
   ]
  },
  {
   "cell_type": "code",
   "execution_count": 12,
   "metadata": {},
   "outputs": [],
   "source": [
    "import pathlib\n",
    "import pickle\n",
    "import zipfile\n",
    "\n",
    "import h5py\n",
    "import matplotlib.pyplot as plt\n",
    "import numpy as np\n",
    "from sklearn.utils.class_weight import compute_class_weight\n",
    "import tensorflow as tf\n",
    "from tensorflow.keras.applications.resnet50 import preprocess_input\n",
    "from tensorflow.keras.callbacks import (\n",
    "    EarlyStopping, ModelCheckpoint, ReduceLROnPlateau)\n",
    "from tensorflow.keras.layers import (\n",
    "    BatchNormalization, Dense, Dropout, Flatten)\n",
    "from tensorflow.keras.losses import MeanSquaredError\n",
    "from tensorflow.keras.models import Model, load_model\n",
    "from tensorflow.keras.optimizers import Adam, RMSprop\n",
    "# from tensorflow.keras.applications.vgg16 import VGG16"
   ]
  },
  {
   "cell_type": "markdown",
   "metadata": {},
   "source": [
    "## Helper functions"
   ]
  },
  {
   "cell_type": "code",
   "execution_count": 3,
   "metadata": {},
   "outputs": [],
   "source": [
    "# Dataset load and preprocess.\n",
    "def load_data(stage: str):\n",
    "    return (\n",
    "        np.load(f'./data/data_{stage}.npy'),\n",
    "        np.load(f'./data/labels_{stage}.npy'),\n",
    "        np.load(f'./data/meta_data_{stage}.npy'),\n",
    "    )\n",
    "\n",
    "def preprocess_X(X) -> None:\n",
    "    \"\"\"Preprocess samples so they can be used as\n",
    "     ResNET50 inputs.\"\"\"\n",
    "    for i in range(0, X.shape[0]):\n",
    "        x = X[i,:,:,:]\n",
    "        x = np.expand_dims(x, axis=0)\n",
    "        X[i,] = preprocess_input(x)"
   ]
  },
  {
   "cell_type": "code",
   "execution_count": 4,
   "metadata": {},
   "outputs": [],
   "source": [
    "# Training and model evalueation.\n",
    "def plot_train_history(train_history):\n",
    "    \"\"\"Plot learnign curves from the training history.\"\"\"\n",
    "    fig, (ax1, ax2) = plt.subplots(1, 2, figsize=(15, 4))\n",
    "    fig.suptitle('Training history (stage 1)', fontsize=14, fontweight='bold')\n",
    "\n",
    "    ax1.plot(train_history['loss'])\n",
    "    ax1.plot(train_history['val_loss'])\n",
    "    ax1.set(xlabel='epoch', ylabel='LOSS')\n",
    "    ax1.legend(['train', 'valid'], loc='upper right')\n",
    "\n",
    "    ax2.plot(train_history['mae'])\n",
    "    ax2.plot(train_history['val_mae'])\n",
    "    ax2.set(xlabel='epoch', ylabel='MAE')\n",
    "    ax2.legend(['train', 'valid'], loc='upper right')\n",
    "    plt.show()"
   ]
  },
  {
   "cell_type": "code",
   "execution_count": 5,
   "metadata": {
    "id": "f4OKbe-3GBMB"
   },
   "outputs": [],
   "source": [
    "def evaluate_model(model: Model):\n",
    "    predictions = model.predict(X_test[:200], batch_size=32, verbose=1)\n",
    "\n",
    "    # evaluating on test data\n",
    "    predictions_f = predictions*100\n",
    "    error = []\n",
    "    for i in range(len(Y_test[:200])):\n",
    "        error.append(\n",
    "            abs(np.subtract(predictions_f[i][0], Y_test[i])),\n",
    "        )\n",
    "    print(f'MAE = {np.mean(error):.8f}')\n",
    "    return predictions_f"
   ]
  },
  {
   "cell_type": "markdown",
   "metadata": {
    "id": "rMULLE13o-Qo"
   },
   "source": [
    "# Downloading and decompressing the Appa-Real Age Dataset [(source)](http://chalearnlap.cvc.uab.es/challenge/13/track/13/description/)\n"
   ]
  },
  {
   "cell_type": "code",
   "execution_count": 6,
   "metadata": {
    "colab": {
     "base_uri": "https://localhost:8080/"
    },
    "id": "M8DZFR8GpIfL",
    "outputId": "bb6f622d-b86c-42ae-edf3-4ba95a72f17b"
   },
   "outputs": [
    {
     "name": "stdout",
     "output_type": "stream",
     "text": [
      "Data decompressed successfully\n"
     ]
    }
   ],
   "source": [
    "if not pathlib.Path('app_data.zip').exists():\n",
    "    !wget https://data.chalearnlap.cvc.uab.cat/Colab_2021/app_data.zip\n",
    "\n",
    "with zipfile.ZipFile('app_data.zip','r') as zip_file:\n",
    "    zip_file.extractall()\n",
    "    print('Data decompressed successfully')\n",
    "\n",
    "# !rm app_data.zip"
   ]
  },
  {
   "cell_type": "markdown",
   "metadata": {
    "id": "a18X0kFGXUnt"
   },
   "source": [
    "# Loading the dataset."
   ]
  },
  {
   "cell_type": "code",
   "execution_count": 7,
   "metadata": {
    "id": "9GRhB1gzXlYc"
   },
   "outputs": [
    {
     "name": "stdout",
     "output_type": "stream",
     "text": [
      "Train set ::: X : (4065, 224, 224, 3), Y : (4065,), M : (4065, 3)\n",
      "Valid set ::: X : (1482, 224, 224, 3), Y : (1482,), M : (1482, 3)\n",
      "Test set ::: X : (1978, 224, 224, 3), Y : (1978,), M : (1978, 3)\n"
     ]
    }
   ],
   "source": [
    "# loading the train data\n",
    "X_train, Y_train, M_train = load_data('train')\n",
    "# loading the validation data\n",
    "X_valid, Y_valid, M_valid  = load_data('valid')\n",
    "# loading the test data\n",
    "X_test, Y_test, M_test = load_data('test')\n",
    "\n",
    "# train labels are real numbers, ranging from ~0.9 to ~89 (years old);\n",
    "# we will re-scale the labels to [0,1] by using a normalization factor of 100,\n",
    "# assuming there is no sample with age > 100.\n",
    "Y_train, Y_valid = Y_train/100, Y_valid/100\n",
    "\n",
    "# Transform the dataset so it works with the ResNet.\n",
    "preprocess_X(X_train)\n",
    "preprocess_X(X_valid)\n",
    "preprocess_X(X_test)\n",
    "\n",
    "print(f\"Train set ::: X : {X_train.shape}, \"\n",
    "      f\"Y : {Y_train.shape}, M : {M_train.shape}\")\n",
    "print(f\"Valid set ::: X : {X_valid.shape}, \"\n",
    "      f\"Y : {Y_valid.shape}, M : {M_valid.shape}\")\n",
    "print(f\"Test set ::: X : {X_test.shape}, \"\n",
    "      f\"Y : {Y_test.shape}, M : {M_test.shape}\")"
   ]
  },
  {
   "cell_type": "markdown",
   "metadata": {
    "id": "IDzps0ccD2pR"
   },
   "source": [
    "---\n",
    "# Dataset visualizations"
   ]
  },
  {
   "cell_type": "markdown",
   "metadata": {
    "id": "cvzseXreqRSv"
   },
   "source": [
    "### Visualizing the age distribution of Train data"
   ]
  },
  {
   "cell_type": "code",
   "execution_count": 8,
   "metadata": {
    "colab": {
     "base_uri": "https://localhost:8080/",
     "height": 327
    },
    "id": "jMCqsJtBD8KG",
    "outputId": "61ba42c6-6b94-46b1-eda4-759d126b24ac"
   },
   "outputs": [
    {
     "data": {
      "image/png": "[encoded data removed]",
      "text/plain": [
       "<Figure size 1080x288 with 2 Axes>"
      ]
     },
     "metadata": {
      "needs_background": "light"
     },
     "output_type": "display_data"
    }
   ],
   "source": [
    "fig, (ax1, ax2) = plt.subplots(1, 2, figsize=(15, 4))\n",
    "fig.suptitle('Age distribution', fontsize=14, fontweight='bold')\n",
    "\n",
    "# labels are multiplied by 100 to show the original values\n",
    "ax1.hist(Y_train*100, bins = 50)\n",
    "ax1.set_title('Y_train labels')\n",
    "ax1.set(xlabel='Apparent age', ylabel='Num. of samples')\n",
    "ax1.set_xlim([0, 100])\n",
    "\n",
    "ax2.hist(Y_valid*100, bins = 50)\n",
    "ax2.set_title('Y_valid labels')\n",
    "ax2.set(xlabel='Apparent age', ylabel='Num. of samples')\n",
    "ax2.set_xlim([0, 100])\n",
    "plt.show()"
   ]
  },
  {
   "cell_type": "markdown",
   "metadata": {
    "id": "uShj-2u-9HCD"
   },
   "source": [
    "### Visualizing the distributions of metadata (Train data)"
   ]
  },
  {
   "cell_type": "code",
   "execution_count": 9,
   "metadata": {
    "colab": {
     "base_uri": "https://localhost:8080/",
     "height": 367
    },
    "id": "1SCU4nm5-qY2",
    "outputId": "27f9a348-a881-487a-fae7-5be3b7ebc439"
   },
   "outputs": [
    {
     "data": {
      "image/png": "[encoded data removed]",
      "text/plain": [
       "<Figure size 1440x288 with 3 Axes>"
      ]
     },
     "metadata": {
      "needs_background": "light"
     },
     "output_type": "display_data"
    }
   ],
   "source": [
    "gender = []\n",
    "etnhicity = []\n",
    "emotion = []\n",
    "for sample in M_train:\n",
    "    gender.append(sample[0])\n",
    "    etnhicity.append(sample[1])\n",
    "    emotion.append(sample[2])\n",
    "\n",
    "fig, (ax1, ax2, ax3) = plt.subplots(1, 3, figsize=(20, 4))\n",
    "fig.suptitle('Metadata distribution', fontsize=14, fontweight='bold')\n",
    "\n",
    "ax1.hist(gender)\n",
    "ax2.hist(etnhicity)\n",
    "ax3.hist(emotion)\n",
    "plt.show()"
   ]
  },
  {
   "cell_type": "markdown",
   "metadata": {
    "id": "hNx5EZps5WN2"
   },
   "source": [
    "### Visualizing the age distribution per Ethnicity"
   ]
  },
  {
   "cell_type": "code",
   "execution_count": 10,
   "metadata": {
    "id": "xHNdQeyT8hSa"
   },
   "outputs": [],
   "source": [
    "def compute_hist_per_ethnicity(y_data, metadata, label):\n",
    "    age_per_eth = {\n",
    "        'asian': [],\n",
    "        'afroamerican': [],\n",
    "        'caucasian': [],\n",
    "    }\n",
    "    for meta, y in zip(metadata, y_data):\n",
    "        age_per_eth[meta[1]].append(y)\n",
    "\n",
    "    fig, (ax1, ax2, ax3) = plt.subplots(1, 3, figsize=(15, 3))\n",
    "    fig.suptitle(f'Age distribution per Ethnicity {label}',\n",
    "                 fontsize=14, fontweight='bold')\n",
    "\n",
    "    ax1.hist(age_per_eth['asian'], bins=50)\n",
    "    ax1.set_xlim([0, 100])\n",
    "    ax1.set(xlabel='Asian', ylabel='Num. of samples')\n",
    "\n",
    "    ax2.hist(age_per_eth['afroamerican'], bins=50)\n",
    "    ax2.set_xlim([0, 100])\n",
    "    ax2.set(xlabel='Afroamerican', ylabel='Num. of samples')\n",
    "\n",
    "    ax3.hist(age_per_eth['caucasian'], bins=50) \n",
    "    ax3.set_xlim([0, 100])\n",
    "    ax3.set(xlabel='Caucasian', ylabel='Num. of samples')\n",
    "    plt.show()"
   ]
  },
  {
   "cell_type": "code",
   "execution_count": 28,
   "metadata": {
    "colab": {
     "base_uri": "https://localhost:8080/",
     "height": 707
    },
    "id": "5nqiYZMF9m4S",
    "outputId": "263f4ce6-3ac4-46a8-87d0-92bf483f10dc"
   },
   "outputs": [
    {
     "data": {
      "image/png": "[encoded data removed]",
      "text/plain": [
       "<Figure size 1080x216 with 3 Axes>"
      ]
     },
     "metadata": {
      "needs_background": "light"
     },
     "output_type": "display_data"
    },
    {
     "data": {
      "image/png": "[encoded data removed]",
      "text/plain": [
       "<Figure size 1080x216 with 3 Axes>"
      ]
     },
     "metadata": {
      "needs_background": "light"
     },
     "output_type": "display_data"
    },
    {
     "data": {
      "image/png": "[encoded data removed]",
      "text/plain": [
       "<Figure size 1080x216 with 3 Axes>"
      ]
     },
     "metadata": {
      "needs_background": "light"
     },
     "output_type": "display_data"
    }
   ],
   "source": [
    "compute_hist_per_ethnicity(Y_train*100, M_train, 'Train set')\n",
    "compute_hist_per_ethnicity(Y_valid*100, M_valid, 'Validation set')\n",
    "compute_hist_per_ethnicity(Y_test, M_test, 'Test set')"
   ]
  },
  {
   "cell_type": "markdown",
   "metadata": {
    "id": "BXQZXojAxGJc"
   },
   "source": [
    "---\n",
    "# Bias functions definitions.\n",
    "The amount of samples representing different groups in the dataset is clearly visible. In this exercise a number of methods will be used to evaluate and guide the model towards unbiased age estimation. At this stage, the main goal is not to achieve the best accuracy score but to check how various methods impact the process of training. \n",
    "\n",
    "Below, the functions to estimate the bias made by the model are defined. Having the metadata attached to the dataset, it is possible to compute the following:\n",
    "  - Age bias\n",
    "  - Gender bias\n",
    "  - Ethnicity bias\n",
    "  - Facial Expression bias\n",
    "\n",
    "Given a particular attribute, we compute the MAE for different groups. For the case of age, detailed next, we will have 4 groups base on different age ranges. Then, we will have $MAE_1$, $MAE_2$, $MAE_3$ and $MAE_4$. Then, we compute the Absolute Difference among all. That is,\n",
    "  - $D_{1,2} = |MAE_1-MAE_2|$\n",
    "  - $D_{1,3} = |MAE_1-MAE_3|$\n",
    "  - $D_{1,4} = |MAE_1-MAE_4|$\n",
    "  - $D_{2,3} = |MAE_2-MAE_3|$\n",
    "  - $D_{2,4} = |MAE_2-MAE_4|$\n",
    "  - $D_{3,4} = |MAE_3-MAE_4|$\n",
    "\n",
    "The final score is obtained by the average of the absolute differentes. In the case of age:\n",
    "  - $B_a = (D_{1,2} + D_{1,3} + D_{1,4} + D_{2,3} + D_{2,4} + D_{3,4})/6$"
   ]
  },
  {
   "cell_type": "markdown",
   "metadata": {
    "id": "1qLSqjp3po9-"
   },
   "source": [
    "## Age Bias ($B_a$)"
   ]
  },
  {
   "cell_type": "code",
   "execution_count": null,
   "metadata": {
    "id": "umMOd4OpWP5y"
   },
   "outputs": [],
   "source": [
    "def age_bias(predictions, gt):\n",
    "    error_g1 = []\n",
    "    error_g2 = []\n",
    "    error_g3 = []\n",
    "    error_g4 = []\n",
    "    for i in range(len(gt)):\n",
    "        if(gt[i] < 20):\n",
    "            error_g1.append(abs(predictions[i] - gt[i]))\n",
    "        elif(20 <= gt[i] < 40):\n",
    "            error_g2.append(abs(predictions[i] - gt[i]))\n",
    "        elif(40 <= gt[i] < 60):\n",
    "            error_g3.append(abs(predictions[i] - gt[i]))\n",
    "        elif(gt[i] >= 60):\n",
    "            error_g4.append(abs(predictions[i] - gt[i]))\n",
    "\n",
    "    print('=============================')\n",
    "    print('Age analysis:')\n",
    "    print(f'Size group 1 = {len(error_g1)}, MAE = {np.mean(error_g1)}')\n",
    "    print(f'Size group 2 = {len(error_g2)}, MAE = {np.mean(error_g2)}')\n",
    "    print(f'Size group 3 = {len(error_g3)}, MAE = {np.mean(error_g3)}')\n",
    "    print(f'Size group 4 = {len(error_g4)}, MAE = {np.mean(error_g4)}')\n",
    "\n",
    "    age_bias = sum((\n",
    "        abs(np.mean(error_g1) - np.mean(error_g2)),\n",
    "        abs(np.mean(error_g1) - np.mean(error_g3)),\n",
    "        abs(np.mean(error_g1) - np.mean(error_g4)),\n",
    "        abs(np.mean(error_g2) - np.mean(error_g3)),\n",
    "        abs(np.mean(error_g2) - np.mean(error_g4)),\n",
    "        abs(np.mean(error_g3) - np.mean(error_g4)),\n",
    "    )) / 6\n",
    "\n",
    "    print('---------')\n",
    "    print(f'Age bias (Ba) = {age_bias}')"
   ]
  },
  {
   "cell_type": "markdown",
   "metadata": {
    "id": "ALWjE5J8edq7"
   },
   "source": [
    "## Gender Bias ($B_g$) \n",
    "Evaluates (on the test set) how accurate the model is with respect to gender.\n"
   ]
  },
  {
   "cell_type": "code",
   "execution_count": null,
   "metadata": {
    "id": "c8ua8JzFfFZK"
   },
   "outputs": [],
   "source": [
    "def gender_bias(predictions, gt, metadata):\n",
    "    error_m = []\n",
    "    error_f = []\n",
    "    for i in range(len(gt)):\n",
    "        if(metadata[i][0] == 'female'):\n",
    "            error_f.append(abs(predictions[i] - gt[i]))\n",
    "        else:\n",
    "            error_m.append(abs(predictions[i] - gt[i]))\n",
    "\n",
    "    print('=============================')\n",
    "    print('Gender analysis:')\n",
    "    print(f'Size group female = {len(error_f)}, MAE = {np.mean(error_f)}')\n",
    "    print(f'Size group male = {len(error_m)}, MAE = {np.mean(error_m)}')\n",
    "\n",
    "    gender_bias = abs(np.mean(error_f) - np.mean(error_m))\n",
    "\n",
    "    print('---------')\n",
    "    print(f'Gender bias (Bg) = {gender_bias}')"
   ]
  },
  {
   "cell_type": "markdown",
   "metadata": {
    "id": "W8rIPUIrjkDG"
   },
   "source": [
    "## Ethnicity Bias ($B_e$)\n",
    "Evaluates (on the test set) how accurate the model is with respect to ethnicity category."
   ]
  },
  {
   "cell_type": "code",
   "execution_count": null,
   "metadata": {
    "id": "8BnG-wK2j8nA"
   },
   "outputs": [],
   "source": [
    "def ethnicity_bias(predictions, gt, metadata):\n",
    "    error_as = []\n",
    "    error_af = []\n",
    "    error_ca = []\n",
    "    for i in range(len(gt)):\n",
    "        if(metadata[i][1] == 'asian'):\n",
    "            error_as.append(abs(predictions[i] - gt[i]))\n",
    "        elif(metadata[i][1] == 'afroamerican'):\n",
    "            error_af.append(abs(predictions[i] - gt[i]))\n",
    "        elif(metadata[i][1] == 'caucasian'):\n",
    "            error_ca.append(abs(predictions[i] - gt[i]))\n",
    "\n",
    "    print('=============================')\n",
    "    print('Ethnicity Analysis:')\n",
    "    print(f'Size group asian = {len(error_as)}, MAE = {np.mean(error_as)}')\n",
    "    print(f'Size group afroamerican = {len(error_af)}, MAE = {np.mean(error_af)}')\n",
    "    print(f'Size group caucasian = {len(error_ca)}, MAE = {np.mean(error_ca)}')\n",
    "\n",
    "    ethnicity_bias = sum((\n",
    "        abs(np.mean(error_as)-np.mean(error_af)),\n",
    "        abs(np.mean(error_as)-np.mean(error_ca)),\n",
    "        abs(np.mean(error_af)-np.mean(error_ca)),\n",
    "    )) / 3\n",
    "\n",
    "    print('---------')\n",
    "    print(f'Ethnicity bias (Be) = {ethnicity_bias}')"
   ]
  },
  {
   "cell_type": "markdown",
   "metadata": {
    "id": "ohPkAMvxm9Ed"
   },
   "source": [
    "## Face expression bias ($B_f$)\n",
    "Evaluates (on the test set) how accurate the model is with respect to face expression categories."
   ]
  },
  {
   "cell_type": "code",
   "execution_count": null,
   "metadata": {
    "id": "2dJOGVMGm_Fe"
   },
   "outputs": [],
   "source": [
    "def face_expression_bias(predictions, gt, metadata):\n",
    "    error_h = []\n",
    "    error_s = []\n",
    "    error_n = []\n",
    "    error_o = []\n",
    "    for i in range(len(gt)):\n",
    "        if(metadata[i][2] == 'happy'):\n",
    "            error_h.append(abs(predictions[i] - gt[i]))\n",
    "        elif(metadata[i][2] == 'slightlyhappy'):\n",
    "            error_s.append(abs(predictions[i] - gt[i]))\n",
    "        elif(metadata[i][2] == 'neutral'):\n",
    "            error_n.append(abs(predictions[i] - gt[i]))\n",
    "        elif(metadata[i][2] == 'other'):\n",
    "            error_o.append(abs(predictions[i] - gt[i]))\n",
    "\n",
    "    print('=============================')\n",
    "    print('Face experession Analysis:')\n",
    "    print(f'Size group happy = {len(error_h)}, MAE = {np.mean(error_h)}')\n",
    "    print(f'Size group slightlyhappy = {len(error_s)}, MAE = {np.mean(error_s)}')\n",
    "    print(f'Size group neutral = {len(error_n)}, MAE = {np.mean(error_n)}')\n",
    "    print(f'Size group other = {len(error_o)}, MAE = {np.mean(error_o)}')\n",
    "\n",
    "    face_bias = sum((\n",
    "        abs(np.mean(error_h) - np.mean(error_s)),\n",
    "        abs(np.mean(error_h) - np.mean(error_n)),\n",
    "        abs(np.mean(error_h) - np.mean(error_o)),\n",
    "        abs(np.mean(error_s) - np.mean(error_n)),\n",
    "        abs(np.mean(error_s) - np.mean(error_o)),\n",
    "        abs(np.mean(error_n) - np.mean(error_o)),\n",
    "    ))/6\n",
    "\n",
    "    print('---------')\n",
    "    print('Face Expression bias (Bf) = ', face_bias)"
   ]
  },
  {
   "cell_type": "markdown",
   "metadata": {
    "id": "-Bubv44hrlxS"
   },
   "source": [
    "---\n",
    "---\n",
    "# Weighted loss strategies "
   ]
  },
  {
   "cell_type": "markdown",
   "metadata": {
    "id": "4Cu4pPauJosB"
   },
   "source": [
    "## Weight calculation"
   ]
  },
  {
   "cell_type": "code",
   "execution_count": null,
   "metadata": {
    "id": "RwrWx87sLClD"
   },
   "outputs": [],
   "source": [
    "# Combined weights: Age, gender, ethnicity, expression\n",
    "M_combined = (\n",
    "    np.char.array(age_category) \n",
    "    + np.char.array(M_train[:,0]) \n",
    "    + np.char.array(M_train[:,1]) \n",
    "    + np.char.array(M_train[:,2])\n",
    ")\n",
    "\n",
    "# Compute classes weights.\n",
    "weights_gender = compute_class_weight(\n",
    "    'balanced', \n",
    "    classes=np.unique(M_train[:,0]), \n",
    "    y=M_train[:,0],\n",
    ")\n",
    "weights_ethnicity = compute_class_weight(\n",
    "    'balanced', \n",
    "    classes=np.unique(M_train[:,1]), \n",
    "    y=M_train[:,1],\n",
    ")\n",
    "weights_expression = compute_class_weight(\n",
    "    'balanced', \n",
    "    classes=np.unique(M_train[:,2]), \n",
    "    y=M_train[:,2],\n",
    ")\n",
    "# Combined weights (Mixing categories as one)\n",
    "weights_combined = compute_class_weight(\n",
    "    'balanced', \n",
    "    classes=np.unique(M_combined), \n",
    "    y=M_combined,\n",
    ")\n",
    "\n",
    "classes_gender = np.unique(M_train[:,0])\n",
    "classes_ethnicity = np.unique(M_train[:,1])\n",
    "classes_expression = np.unique(M_train[:,2])\n",
    "classes_combined = np.unique(M_combined)\n",
    "\n",
    "# Compute age weights.\n",
    "g1 = g2 = g3 = g4 = 0\n",
    "for y in Y_train:\n",
    "    age = y * 100\n",
    "    if(age < 20):\n",
    "        g1 +=1\n",
    "    elif(20 <= age <40):\n",
    "        g2 +=1\n",
    "    elif(40 <= age <60):\n",
    "        g3 +=1\n",
    "    elif(age >= 60):\n",
    "        g4 +=1\n",
    "weights_age = (\n",
    "    sum(np.array([g1, g2, g3, g4]))\n",
    "    / (4 * np.array([g1, g2, g3, g4]))\n",
    ")"
   ]
  },
  {
   "cell_type": "code",
   "execution_count": null,
   "metadata": {
    "id": "4R6OGykhNIZu"
   },
   "outputs": [],
   "source": [
    "# Linking age weights to each sample\n",
    "sample_weights_age = []\n",
    "age_category = []\n",
    "for y in Y_train:\n",
    "    age = y * 100\n",
    "    if(age < 20):\n",
    "        sample_weights_age.append(weights_age[0])\n",
    "        age_category.append('1')\n",
    "    elif(20 <= age < 40):\n",
    "        sample_weights_age.append(weights_age[1])\n",
    "        age_category.append('2')\n",
    "    elif(40 <= age <60):\n",
    "        sample_weights_age.append(weights_age[2])\n",
    "        age_category.append('3')\n",
    "    if(age >= 60):\n",
    "        sample_weights_age.append(weights_age[3])\n",
    "        age_category.append('4')\n",
    "sample_weights_age = np.array(sample_weights_age)"
   ]
  },
  {
   "cell_type": "code",
   "execution_count": null,
   "metadata": {
    "id": "W3dqZEB4NRQW"
   },
   "outputs": [],
   "source": [
    "# Linking ethnicity weights to each sample.\n",
    "sample_weights_ethnicity = []\n",
    "for i in range(M_train.shape[0]):\n",
    "    if(M_train[i,1] == classes_ethnicity[0]):\n",
    "        sample_weights_ethnicity.append(weights_ethnicity[0])\n",
    "    elif(M_train[i,1] == classes_ethnicity[1]):\n",
    "        sample_weights_ethnicity.append(weights_ethnicity[1])\n",
    "    elif(M_train[i,1] == classes_ethnicity[2]):\n",
    "        sample_weights_ethnicity.append(weights_ethnicity[2])\n",
    "sample_weights_ethnicity = np.array(sample_weights_ethnicity)"
   ]
  },
  {
   "cell_type": "code",
   "execution_count": null,
   "metadata": {
    "id": "omInAaUcOfQJ"
   },
   "outputs": [],
   "source": [
    "# Linking expression weights to each sample.\n",
    "sample_weights_expression = []\n",
    "for i in range(M_train.shape[0]):\n",
    "    if(M_train[i,2] == classes_expression[0]):\n",
    "        sample_weights_expression.append(weights_expression[0])\n",
    "    elif(M_train[i,2] == classes_expression[1]):\n",
    "        sample_weights_expression.append(weights_expression[1])\n",
    "    elif(M_train[i,2] == classes_expression[2]):\n",
    "        sample_weights_expression.append(weights_expression[2])\n",
    "    elif(M_train[i,2] == classes_expression[3]):\n",
    "        sample_weights_expression.append(weights_expression[3])\n",
    "sample_weights_expression = np.array(sample_weights_expression)"
   ]
  },
  {
   "cell_type": "code",
   "execution_count": null,
   "metadata": {
    "id": "l5NK32Jfgh-7"
   },
   "outputs": [],
   "source": [
    "# Linking gender weights to each sample\n",
    "sample_weights_gender = []\n",
    "for i in range(M_train.shape[0]):\n",
    "    if(M_train[i,0] == classes_gender[0]):\n",
    "        sample_weights_gender.append(weights_expression[0])\n",
    "    elif(M_train[i,0] == classes_gender[1]):\n",
    "        sample_weights_gender.append(weights_expression[1])\n",
    "sample_weights_gender = np.array(sample_weights_gender)"
   ]
  },
  {
   "cell_type": "code",
   "execution_count": null,
   "metadata": {},
   "outputs": [],
   "source": [
    "# Linking combined weights to each sample\n",
    "sample_weights_combined = []\n",
    "for i in range(M_train.shape[0]):\n",
    "    for category in range(classes_combined.shape[0]):\n",
    "        if M_combined[i] == classes_combined[category]:\n",
    "            sample_weights_combined.append(weights_combined[category])"
   ]
  },
  {
   "cell_type": "code",
   "execution_count": null,
   "metadata": {},
   "outputs": [],
   "source": [
    "def random_noise_weights_function(weights):\n",
    "    weights_noise = np.random.randn(sample_weights.shape[0]) * 0.05\n",
    "    return  sample_weights + weights_noise"
   ]
  },
  {
   "cell_type": "markdown",
   "metadata": {
    "id": "vC6A65ZAO6FI"
   },
   "source": [
    "# Custom weighted samples\n",
    "Below, the weights computed previously are used to create various combinations to generate weights for the corresponding samples."
   ]
  },
  {
   "cell_type": "code",
   "execution_count": null,
   "metadata": {},
   "outputs": [],
   "source": [
    "# Strategy 1: Age+Ethnicity+Facial Expression.\n",
    "sample_weights = (\n",
    "    sample_weights_age + sample_weights_ethnicity + sample_weights_expression\n",
    ") / 3.\n",
    "# Strategy 2: Age+Ethnicity.\n",
    "sample_weights = (\n",
    "    sample_weights_age + sample_weights_ethnicity \n",
    ") / 2.\n",
    "# Strategy 3: Age+Ethnicity+Facial Expression+Gender\n",
    "sample_weights = (\n",
    "    sample_weights_age + sample_weights_ethnicity \n",
    "    + sample_weights_expression + sample_weights_gender\n",
    ") / 4.\n",
    "# Strategy 4: Weighted average Age+Ethnicity+Facial Expression 631\n",
    "sample_weights = (\n",
    "    0.6*sample_weights_age + 0.3*sample_weights_ethnicity \n",
    "    + 0.1*sample_weights_expression\n",
    ")\n",
    "# Strategy 5: Weighted average Age+Ethnicity+Facial Expression 532\n",
    "sample_weights = (\n",
    "    0.5*sample_weights_age + 0.3*sample_weights_ethnicity + \n",
    "    0.2*sample_weights_expression\n",
    ")\n",
    "# Strategy 6: Combined weights Age+Gender+Ethnicity+Facial Expression\n",
    "sample_weights = np.array(sample_weights_combined)\n",
    "# Strategy 7: Noised Weighted average Age+Ethnicity+Expression\n",
    "sample_weights = random_noise_weights_function(\n",
    "    0.6*sample_weights_age + 0.3*sample_weights_ethnicity \n",
    "    + 0.1*sample_weights_expression\n",
    ")"
   ]
  },
  {
   "cell_type": "code",
   "execution_count": null,
   "metadata": {
    "colab": {
     "base_uri": "https://localhost:8080/"
    },
    "id": "-o1zXqEOQHgQ",
    "outputId": "babf31a5-4d60-4cc6-eb21-3aaccdb60cae"
   },
   "outputs": [],
   "source": [
    "saved_model = load_model('model_checkpoint_2.h5')\n",
    "saved_model.trainable = True\n",
    "\n",
    "es = EarlyStopping(\n",
    "    monitor='val_mae', \n",
    "    mode='min', \n",
    "    verbose=1, \n",
    "    patience=10,\n",
    ")\n",
    "mc = ModelCheckpoint(\n",
    "    'weighted_model_checkpoint.h5',\n",
    "    monitor='val_mae',\n",
    "    mode='min',\n",
    "    save_best_only=True,\n",
    ")\n",
    "rp = ReduceLROnPlateau(\n",
    "    monitor='val_mae',\n",
    "    factor=0.5,\n",
    "    patience=5,\n",
    "    min_lr=1e-5,\n",
    "    verbose=1,\n",
    ")\n",
    "\n",
    "saved_model.compile(\n",
    "    tf.keras.optimizers.Adam(learning_rate=1e-4),\n",
    "    loss=tf.keras.losses.MeanSquaredError(),\n",
    "    metrics=['mae'],\n",
    ")\n",
    "\n",
    "history = saved_model.fit(\n",
    "    X_train, Y_train, \n",
    "    sample_weight=sample_weights, \n",
    "    validation_data=(X_valid, Y_valid), \n",
    "    batch_size=16, \n",
    "    epochs=30, \n",
    "    shuffle=True, \n",
    "    verbose=1, \n",
    "    callbacks=[es, mc, rp],\n",
    ")\n",
    "\n",
    "with open('train_history_weighted.pkl', 'wb') as handle:\n",
    "    pickle.dump(history.history, handle, protocol=pickle.HIGHEST_PROTOCOL)"
   ]
  },
  {
   "cell_type": "code",
   "execution_count": null,
   "metadata": {},
   "outputs": [],
   "source": [
    "train_hist = pickle.load(open(\"train_history_weighted.pkl\",\"rb\"))\n",
    "plot_train_history(train_hist)"
   ]
  },
  {
   "cell_type": "code",
   "execution_count": null,
   "metadata": {
    "colab": {
     "base_uri": "https://localhost:8080/"
    },
    "id": "H_XG0lcj4H2l",
    "outputId": "7d3f29e3-9769-47d4-efa7-fb58a0fc4718"
   },
   "outputs": [],
   "source": [
    "# Evaluate the model.\n",
    "saved_model = load_model('weighted_model_checkpoint.h5')\n",
    "model_predictions = evaluate_model(saved_model)\n",
    "age_bias(model_predictions, Y_test)\n",
    "gender_bias(model_predictions, Y_test, M_test)\n",
    "ethnicity_bias(model_predictions, Y_test, M_test)\n",
    "face_expression_bias(model_predictions, Y_test, M_test)"
   ]
  },
  {
   "cell_type": "markdown",
   "metadata": {
    "id": "TMt4gRv275b5"
   },
   "source": [
    "# Custom Loss Function : Age Bias\n",
    "Another strategy applied is to include age bias term in the loss function. Age bias was selected because it's the fastest to implement given no dependency of metadata. "
   ]
  },
  {
   "cell_type": "code",
   "execution_count": null,
   "metadata": {
    "id": "e-aum9DH8RWi"
   },
   "outputs": [],
   "source": [
    "def age_bias_loss(predictions, gt):\n",
    "    \"\"\"Custom loss function to compute age bias.\"\"\"\n",
    "\n",
    "    def zero_or_mean(prediction_masked, gt_masked):\n",
    "        # Prevent returning NaN when tensors are empty.\n",
    "        return tf.cond(\n",
    "            tf.equal(tf.size(gt_masked), 0),\n",
    "            lambda : tf.constant(0.0),\n",
    "            lambda: tf.reduce_mean(prediction_masked - gt_masked),\n",
    "        )\n",
    "\n",
    "    def filter_values(mask_1, mask_2=None):\n",
    "        # Apply filtering masks to tensors with data.\n",
    "        if mask_2 is None:\n",
    "            mask = mask_1\n",
    "        else:\n",
    "            mask = tf.logical_and(mask_1, mask_2)\n",
    "        return tf.boolean_mask(predictions, mask), tf.boolean_mask(gt, mask)\n",
    "\n",
    "\n",
    "    # MEA for age<20\n",
    "    prediction_mask, gt_mask = filter_values(gt < 20)\n",
    "    error_g1_mean = zero_or_mean(prediction_mask, gt_mask)\n",
    "\n",
    "    # MEA for 20 <= age < 40\n",
    "    prediction_mask, gt_mask = filter_values(20 <= gt, gt < 40)\n",
    "    error_g2_mean = zero_or_mean(prediction_mask, gt_mask)\n",
    "\n",
    "    # MEA for 40 <= age < 60\n",
    "    prediction_mask, gt_mask = filter_values(40 <= gt, gt < 60)\n",
    "    error_g3_mean = zero_or_mean(prediction_mask, gt_mask)\n",
    "\n",
    "    # MEA for 60 <= age\n",
    "    prediction_mask, gt_mask = filter_values(60 <= gt)\n",
    "    error_g4_mean = zero_or_mean(prediction_mask, gt_mask)\n",
    "\n",
    "    fn = tf.square\n",
    "    age_bias =(\n",
    "      fn(error_g1_mean - error_g2_mean) +\n",
    "      fn(error_g1_mean - error_g3_mean) +\n",
    "      fn(error_g1_mean - error_g4_mean) +\n",
    "      fn(error_g2_mean - error_g3_mean) +\n",
    "      fn(error_g2_mean - error_g4_mean) +\n",
    "      fn(error_g3_mean - error_g4_mean)\n",
    "    )\n",
    "    age_bias /= 6\n",
    "    return age_bias"
   ]
  },
  {
   "cell_type": "code",
   "execution_count": null,
   "metadata": {
    "id": "E8NngSxk4gZm"
   },
   "outputs": [],
   "source": [
    "saved_model = load_model('model_checkpoint_2.h5')\n",
    "saved_model.trainable = True\n",
    "\n",
    "mse_loss = tf.keras.losses.MeanSquaredError()\n",
    "\n",
    "def custom_loss(predictions, gt):\n",
    "    return (\n",
    "        6 * age_bias_loss(predictions, gt) \n",
    "        + mse_loss(predictions, gt)\n",
    "    )\n",
    "\n",
    "es = EarlyStopping(\n",
    "    monitor='val_loss',\n",
    "    mode='min', \n",
    "    verbose=1, \n",
    "    patience=5,\n",
    ")\n",
    "mc = ModelCheckpoint(\n",
    "    'custom_loss_model_checkpoint.h5', \n",
    "    monitor='val_loss', \n",
    "    save_best_only=True,\n",
    ")\n",
    "rp = ReduceLROnPlateau(\n",
    "    monitor='val_mae',\n",
    "    factor=0.5,\n",
    "    patience=5,\n",
    "    min_lr=1e-5,\n",
    "    verbose=1,\n",
    ")\n",
    "\n",
    "saved_model.compile(\n",
    "    tf.keras.optimizers.Adam(learning_rate=1e-5),\n",
    "    loss=custom_loss,\n",
    "    metrics=['mae'],\n",
    ")\n",
    "history = saved_model.fit(\n",
    "    X_train, \n",
    "    Y_train, \n",
    "    validation_data=(X_valid, Y_valid), \n",
    "    batch_size=16, \n",
    "    epochs=30, \n",
    "    shuffle=True, \n",
    "    verbose=1, \n",
    "    callbacks=[es, mc, rp],\n",
    ")\n",
    "\n",
    "with open('custom_loss_model_history.pkl', 'wb') as handle:\n",
    "    pickle.dump(history.history, handle, protocol=pickle.HIGHEST_PROTOCOL)"
   ]
  },
  {
   "cell_type": "code",
   "execution_count": null,
   "metadata": {},
   "outputs": [],
   "source": [
    "train_hist = pickle.load(open(\"custom_loss_model_history.pkl\",\"rb\"))\n",
    "plot_train_history(train_hist)"
   ]
  },
  {
   "cell_type": "code",
   "execution_count": null,
   "metadata": {},
   "outputs": [],
   "source": [
    "# Evaluate the model.\n",
    "saved_model = load_model('custom_loss_model_checkpoint.h5')\n",
    "model_predictions = evaluate_model(saved_model)\n",
    "age_bias(model_predictions, Y_test)\n",
    "gender_bias(model_predictions, Y_test, M_test)\n",
    "ethnicity_bias(model_predictions, Y_test, M_test)\n",
    "face_expression_bias(model_predictions, Y_test, M_test)"
   ]
  },
  {
   "cell_type": "markdown",
   "metadata": {
    "id": "zlkggYlK8Whx"
   },
   "source": [
    "# Custom Loss with Weighted Samples\n",
    "Combining custom loss function with the best weighted samples strategy. "
   ]
  },
  {
   "cell_type": "code",
   "execution_count": null,
   "metadata": {
    "colab": {
     "base_uri": "https://localhost:8080/"
    },
    "id": "X-4gqndH4gZo",
    "outputId": "359b1e7e-1d1a-4631-a9cb-6b4bea296a8a"
   },
   "outputs": [],
   "source": [
    "sample_weights = (\n",
    "    0.6*sample_weights_age + 0.3*sample_weights_ethnicity \n",
    "    + 0.1*sample_weights_expression\n",
    ")\n",
    "\n",
    "saved_model = load_model('/content/gdrive/MyDrive/temp/best_model.h5')\n",
    "saved_model.trainable = True\n",
    "\n",
    "mse_loss = tf.keras.losses.MeanSquaredError()\n",
    "def custom_loss(predictions, gt):\n",
    "    return 0.5*age_bias_loss(predictions, gt) + 0.5*mse_loss(predictions, gt)\n",
    "\n",
    "saved_model.compile(\n",
    "    tf.keras.optimizers.Adam(learning_rate=1e-5),\n",
    "    loss=custom_loss,\n",
    "    metrics=['mae'],\n",
    ")\n",
    "\n",
    "es = EarlyStopping(\n",
    "    monitor='val_loss',\n",
    "    mode='min', \n",
    "    verbose=1, \n",
    "    patience=5,\n",
    ")\n",
    "mc = ModelCheckpoint(\n",
    "    'custom_loss_weighted_model_checkpoint.h5', \n",
    "    monitor='val_loss', \n",
    "    save_best_only=True,\n",
    ")\n",
    "rp = ReduceLROnPlateau(\n",
    "    monitor='val_mae',\n",
    "    factor=0.1,\n",
    "    patience=3,\n",
    "    min_lr=1e-5,\n",
    "    verbose=1\n",
    ")\n",
    "history = saved_model.fit(\n",
    "    X_train, \n",
    "    Y_train,\n",
    "    sample_weight=sample_weights,\n",
    "    validation_data=(X_valid, Y_valid),\n",
    "    batch_size=16, \n",
    "    epochs=30, \n",
    "    shuffle=True, \n",
    "    verbose=1, \n",
    "    callbacks=[es,mc,rp],\n",
    ")\n",
    "\n",
    "# saving training history\n",
    "with open('custom_loss_weighted_model_history.pkl', 'wb') as handle:\n",
    "    pickle.dump(history.history, handle, protocol=pickle.HIGHEST_PROTOCOL)"
   ]
  },
  {
   "cell_type": "code",
   "execution_count": null,
   "metadata": {},
   "outputs": [],
   "source": [
    "train_hist = pickle.load(open(\"custom_loss_weighted_model_history.pkl\",\"rb\"))\n",
    "plot_train_history(train_hist)"
   ]
  },
  {
   "cell_type": "code",
   "execution_count": null,
   "metadata": {},
   "outputs": [],
   "source": [
    "# Evaluate the model.\n",
    "saved_model = load_model('custom_loss_weighted_model_checkpoint.h5')\n",
    "model_predictions = evaluate_model(saved_model)\n",
    "age_bias(model_predictions, Y_test)\n",
    "gender_bias(model_predictions, Y_test, M_test)\n",
    "ethnicity_bias(model_predictions, Y_test, M_test)\n",
    "face_expression_bias(model_predictions, Y_test, M_test)"
   ]
  },
  {
   "cell_type": "markdown",
   "metadata": {
    "id": "OQLFkNyanphz"
   },
   "source": [
    "# Multiple output model\n",
    "The idea behind this implementation is that we can generate additional outputs to improve the model training. Instead of returning a single number representing an age, model had additional outputs that judge about \"age category\" defined as its range. It is possible to generate age categories with various granularity or even use a couple of them for the training."
   ]
  },
  {
   "cell_type": "markdown",
   "metadata": {
    "id": "EbRqG1Xln7su"
   },
   "source": [
    "## Model definition"
   ]
  },
  {
   "cell_type": "code",
   "execution_count": null,
   "metadata": {
    "colab": {
     "base_uri": "https://localhost:8080/"
    },
    "id": "RozV5MfSoaF4",
    "outputId": "5a80fc80-430d-4400-ff7a-f91cec6388bb"
   },
   "outputs": [],
   "source": [
    "flatten = model.get_layer('flatten_1').output #2048\n",
    "\n",
    "# Dense layer + Batch Normalization + Dropout\n",
    "fc_200 = Dense(200, activation='relu', name='f_200')(flatten)\n",
    "batch_norm = BatchNormalization()(fc_200)\n",
    "dp_layer = Dropout(0.4)(batch_norm)\n",
    "\n",
    "# Dense layer + Dropout\n",
    "fc_30 = Dense(30, activation='relu', name='f_30')(dp_layer)\n",
    "dp_layer_2 = Dropout(0.4)(fc_30)\n",
    "\n",
    "# Regression output layes\n",
    "output_reg = Dense(1, activation='sigmoid', name='predict_reg')(fc_30)\n",
    "output_class = Dense(4, activation='softmax', name='predict_class')(fc_30)\n",
    "\n",
    "model = Model(\n",
    "    inputs=model.get_layer('base_input').output, \n",
    "    outputs=[output_reg, output_class],\n",
    ")\n",
    "print(model.summary())"
   ]
  },
  {
   "cell_type": "code",
   "execution_count": null,
   "metadata": {
    "id": "1smnUY2io6ts"
   },
   "outputs": [],
   "source": [
    "def Y_to_categorical_100(Y):\n",
    "    y_categorical = np.zeros((Y.shape[0], 100))\n",
    "    for k in range(len(Y)):\n",
    "        y_categorical[k, int(Y[k]*100)] =1\n",
    "    return y_categorical "
   ]
  },
  {
   "cell_type": "code",
   "execution_count": null,
   "metadata": {
    "id": "92l6eU8_pQer"
   },
   "outputs": [],
   "source": [
    "def Y_to_categorical_4(Y):\n",
    "    y_categorical = np.zeros((Y.shape[0], 4))\n",
    "    for k in range(len(Y)):\n",
    "        age = Y[k]*100\n",
    "        if(age < 20):\n",
    "            y_categorical[k, 0] =1\n",
    "        elif(20 <= age < 40):\n",
    "            y_categorical[k, 1] =1\n",
    "        elif(40 <= age < 60):\n",
    "            y_categorical[k, 2] =1\n",
    "        elif(age >= 60):\n",
    "            y_categorical[k, 3] =1\n",
    "    return y_categorical "
   ]
  },
  {
   "cell_type": "code",
   "execution_count": null,
   "metadata": {
    "colab": {
     "base_uri": "https://localhost:8080/"
    },
    "id": "DpJW0kCLqo0N",
    "outputId": "c36231f2-586b-4c43-ecc2-6b02cecfcc0d"
   },
   "outputs": [],
   "source": [
    "for counter, layer in enumerate(model.layers):\n",
    "    layer.trainable = (counter > 174)\n",
    "\n",
    "es = EarlyStopping(\n",
    "    monitor='val_loss', \n",
    "    verbose=1, \n",
    "    patience=5,\n",
    "),\n",
    "mc = ModelCheckpoint(\n",
    "    'multi_output_model_checkpoint.h5', \n",
    "    monitor='val_loss',\n",
    "    save_best_only=True,\n",
    ")\n",
    "rp = ReduceLROnPlateau(\n",
    "    factor=0.1,\n",
    "    patience=3,\n",
    "    min_lr=0.00001,\n",
    "    verbose=1,\n",
    ")\n",
    "\n",
    "model.compile(\n",
    "    tf.keras.optimizers.Adam(learning_rate=1e-3),\n",
    "    loss=[\n",
    "        tf.keras.losses.MeanSquaredError(), \n",
    "        tf.keras.losses.CategoricalCrossentropy(),\n",
    "    ],\n",
    "    metrics=['mae']\n",
    ")\n",
    "\n",
    "history = model.fit(\n",
    "    X_train, \n",
    "    [Y_train, Y_to_categorical_4(Y_train)], \n",
    "    validation_data=(\n",
    "        X_valid,\n",
    "        [Y_valid, Y_to_categorical_4(Y_valid)],\n",
    "    ),\n",
    "    batch_size=64, \n",
    "    epochs=30,\n",
    "    shuffle=True, \n",
    "    verbose=1, \n",
    "    callbacks=[es,mc, rp]\n",
    ")"
   ]
  },
  {
   "cell_type": "code",
   "execution_count": null,
   "metadata": {},
   "outputs": [],
   "source": [
    "# Evaluate the model.\n",
    "saved_model = load_model('multi_output_model_checkpoint.h5')\n",
    "model_predictions = evaluate_model(saved_model)\n",
    "age_bias(model_predictions, Y_test)\n",
    "gender_bias(model_predictions, Y_test, M_test)\n",
    "ethnicity_bias(model_predictions, Y_test, M_test)\n",
    "face_expression_bias(model_predictions, Y_test, M_test)"
   ]
  }
 ],
 "metadata": {
  "colab": {
   "collapsed_sections": [
    "IDzps0ccD2pR",
    "HkV6r0pVkcBX",
    "n65k0Gc4vXRS",
    "8U1hPksD9BYt",
    "KDGOQjFz4k90",
    "VITEsCYfHi6q",
    "n5hRW7Ryl39L",
    "q6wDuxn8mJ8y",
    "kR_nPmpJ_Gln",
    "BXQZXojAxGJc",
    "-Bubv44hrlxS",
    "4Cu4pPauJosB",
    "vC6A65ZAO6FI",
    "lUPnU_NAsjM_",
    "x3KE3La7g1H7",
    "4OVaMZCaClwa",
    "AN1IciI6KC4N",
    "pHFhQbk8UHC7",
    "gX1gQ1IX7E1V",
    "-Oi7n-Gh4gZZ",
    "TMt4gRv275b5",
    "9goMTGr177un",
    "zlkggYlK8Whx",
    "OQLFkNyanphz",
    "KgRz4167pXqk"
   ],
   "name": "PAMADA_colab_notebook_final.ipynb",
   "provenance": []
  },
  "kernelspec": {
   "display_name": "Python 3 (ipykernel)",
   "language": "python",
   "name": "python3"
  },
  "language_info": {
   "codemirror_mode": {
    "name": "ipython",
    "version": 3
   },
   "file_extension": ".py",
   "mimetype": "text/x-python",
   "name": "python",
   "nbconvert_exporter": "python",
   "pygments_lexer": "ipython3",
   "version": "3.8.13"
  }
 },
 "nbformat": 4,
 "nbformat_minor": 1
}
